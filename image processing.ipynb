{
 "cells": [
  {
   "cell_type": "code",
   "execution_count": 36,
   "metadata": {
    "_cell_guid": "b1076dfc-b9ad-4769-8c92-a6c4dae69d19",
    "_uuid": "8f2839f25d086af736a60e9eeb907d3b93b6e0e5"
   },
   "outputs": [
    {
     "name": "stderr",
     "output_type": "stream",
     "text": [
      "Using TensorFlow backend.\n"
     ]
    }
   ],
   "source": [
    "from keras.models import Sequential, Model\n",
    "from keras.layers import Dense, Dropout, Activation, Flatten, BatchNormalization, merge, Input, concatenate, add\n",
    "from keras.layers import Conv2D, MaxPooling2D,MaxPool2D, ZeroPadding2D, AveragePooling2D, GlobalAveragePooling2D, BatchNormalization\n",
    "from keras.utils import np_utils\n",
    "from keras.models import model_from_json\n",
    "from keras import backend as K\n",
    "from keras.preprocessing import image\n",
    "from keras.optimizers import SGD, RMSprop\n",
    "from keras.utils.data_utils import get_file\n",
    "import random\n",
    "from sklearn.metrics import classification_report, confusion_matrix\n",
    "from keras_preprocessing.image import ImageDataGenerator\n",
    "from keras.applications import VGG16, ResNet50, VGG16\n",
    "import os\n",
    "import itertools\n",
    "import cv2\n",
    "from sklearn.metrics import log_loss, confusion_matrix\n",
    "import numpy as np\n",
    "import pandas as pd\n",
    "import tensorflow as tf\n",
    "import matplotlib.pyplot as plt\n",
    "%matplotlib inline\n",
    "import os\n",
    "import warnings\n",
    "import numpy as np\n",
    "\n",
    "warnings.simplefilter(\"ignore\", UserWarning)"
   ]
  },
  {
   "cell_type": "code",
   "execution_count": 58,
   "metadata": {},
   "outputs": [],
   "source": [
    "df=pd.read_csv(\"preds.csv\")\n",
    "columns=[\"fn\", \"label\"]"
   ]
  },
  {
   "cell_type": "code",
   "execution_count": 59,
   "metadata": {},
   "outputs": [
    {
     "name": "stdout",
     "output_type": "stream",
     "text": [
      "Found 320 validated image filenames.\n"
     ]
    }
   ],
   "source": [
    "test_datagen_final = ImageDataGenerator(rescale=1.0/255)\n",
    "test_generator_final = test_datagen_final.flow_from_dataframe(\n",
    "        dataframe = df,\n",
    "        directory='test/',\n",
    "        class_mode=None,\n",
    "        x_col=\"fn\",\n",
    "        target_size=(150,150))"
   ]
  },
  {
   "cell_type": "code",
   "execution_count": 60,
   "metadata": {},
   "outputs": [],
   "source": [
    "filepaths =  test_generator_final.filepaths"
   ]
  },
  {
   "cell_type": "code",
   "execution_count": 62,
   "metadata": {},
   "outputs": [],
   "source": [
    "filenames = test_generator_final.filenames"
   ]
  },
  {
   "cell_type": "markdown",
   "metadata": {},
   "source": [
    "# Correction of orientation of the images"
   ]
  },
  {
   "cell_type": "code",
   "execution_count": 63,
   "metadata": {},
   "outputs": [],
   "source": [
    "def rotate_img(img_path, rt_degr):\n",
    "    img = Image.open(img_path)\n",
    "    return img.rotate(rt_degr)\n",
    "\n",
    "\n",
    "for  name, path, y in zip(filenames,filepaths, df.label.values):\n",
    "    if y == 'rotated_left':\n",
    "        img_rt_correction = rotate_img(path, -90)\n",
    "        img_rt_correction.save(\"output/\"+name)\n",
    "    if  y == 'rotated_right':\n",
    "        img_rt_correction = rotate_img(path, 90)\n",
    "        img_rt_correction.save(\"output/\"+name)\n",
    "    if  y == 'upside_down':\n",
    "        img_rt_correction = rotate_img(path, 180)\n",
    "        img_rt_correction.save(\"output/\"+name)    "
   ]
  }
 ],
 "metadata": {
  "kernelspec": {
   "display_name": "Python 3",
   "language": "python",
   "name": "python3"
  },
  "language_info": {
   "codemirror_mode": {
    "name": "ipython",
    "version": 3
   },
   "file_extension": ".py",
   "mimetype": "text/x-python",
   "name": "python",
   "nbconvert_exporter": "python",
   "pygments_lexer": "ipython3",
   "version": "3.6.8"
  }
 },
 "nbformat": 4,
 "nbformat_minor": 1
}
